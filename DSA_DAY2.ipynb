{
  "nbformat": 4,
  "nbformat_minor": 0,
  "metadata": {
    "colab": {
      "name": "DSA_DAY2.ipynb",
      "provenance": [],
      "authorship_tag": "ABX9TyOvRQ9idebNsigkePUUY8KM",
      "include_colab_link": true
    },
    "kernelspec": {
      "name": "python3",
      "display_name": "Python 3"
    }
  },
  "cells": [
    {
      "cell_type": "markdown",
      "metadata": {
        "id": "view-in-github",
        "colab_type": "text"
      },
      "source": [
        "<a href=\"https://colab.research.google.com/github/Thulash/DSA-Assignment-Submissions/blob/main/DSA_DAY2.ipynb\" target=\"_parent\"><img src=\"https://colab.research.google.com/assets/colab-badge.svg\" alt=\"Open In Colab\"/></a>"
      ]
    },
    {
      "cell_type": "markdown",
      "metadata": {
        "id": "bc67b8bI-rA4"
      },
      "source": [
        "##Question 1\r\n",
        "\r\n",
        "    Find the time complexity of the following Pseudo Code \r\n",
        "        for( i = 1 ; i <= n ; i = i*2)\r\n",
        "            for( j = 1 ; j <= i ; j++)\r\n",
        "                    print(“Hello”)"
      ]
    },
    {
      "cell_type": "markdown",
      "metadata": {
        "id": "e69P1qiwADiP"
      },
      "source": [
        "##ans. O(n*(log n base 2))"
      ]
    }
  ]
}