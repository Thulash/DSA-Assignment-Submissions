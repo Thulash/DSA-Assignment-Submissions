{
  "nbformat": 4,
  "nbformat_minor": 0,
  "metadata": {
    "colab": {
      "name": "DSA_DAY3.ipynb",
      "provenance": [],
      "authorship_tag": "ABX9TyPhIX5q4fgw2T+lgoCzTRoS",
      "include_colab_link": true
    },
    "kernelspec": {
      "name": "python3",
      "display_name": "Python 3"
    }
  },
  "cells": [
    {
      "cell_type": "markdown",
      "metadata": {
        "id": "view-in-github",
        "colab_type": "text"
      },
      "source": [
        "<a href=\"https://colab.research.google.com/github/Thulash/DSA-Assignment-Submissions/blob/main/DSA_DAY3.ipynb\" target=\"_parent\"><img src=\"https://colab.research.google.com/assets/colab-badge.svg\" alt=\"Open In Colab\"/></a>"
      ]
    },
    {
      "cell_type": "markdown",
      "metadata": {
        "id": "mRuU96CISI5B"
      },
      "source": [
        "##Question 1\r\n",
        "\r\n",
        "    Perform Delete operation at the end to remove the oldest movie from the movies list"
      ]
    },
    {
      "cell_type": "code",
      "metadata": {
        "id": "_ztuPiOEBHED"
      },
      "source": [
        "class MovieNode:\r\n",
        "  \r\n",
        "  def __init__(self, movieName, relDate):\r\n",
        "    self.movieName = movieName\r\n",
        "    self.relDate = relDate\r\n",
        "    self.next = None\r\n",
        "    return\r\n",
        "\r\n",
        "class NetflixMovieList:\r\n",
        "  \r\n",
        "  def __init__(self):\r\n",
        "    self.head = None\r\n",
        "  \r\n",
        "  def addMovie(self, movieName, relDate):\r\n",
        "    new = MovieNode(movieName, relDate)\r\n",
        "    if self.head == None:\r\n",
        "        self.head = new\r\n",
        "        return\r\n",
        "    new.next = self.head\r\n",
        "    self.head = new\r\n",
        "    return\r\n",
        "  \r\n",
        "  def displayMovies(self):\r\n",
        "    if self.head == None:\r\n",
        "      print(\"No movies to show right now\")\r\n",
        "      return\r\n",
        "    temp = self.head\r\n",
        "    while(temp != None):\r\n",
        "      print(temp.movieName, temp.relDate, '-> ', end = \"\")\r\n",
        "      temp = temp.next\r\n",
        "    print('None')\r\n",
        "    return\r\n",
        "  \r\n",
        "\r\n",
        "  def deleteMovie(self):\r\n",
        "    if self.head == None:\r\n",
        "      print(\"No Movies to be removed\")\r\n",
        "      return\r\n",
        "    else : \r\n",
        "      temp = self.head\r\n",
        "\r\n",
        "    if (temp is not None):\r\n",
        "            if (temp.next == None):\r\n",
        "                self.head = temp.next\r\n",
        "                temp = None\r\n",
        "                return\r\n",
        "\r\n",
        "    while (temp is not None):\r\n",
        "            if temp.next == None:\r\n",
        "                break\r\n",
        "            prev = temp\r\n",
        "            temp = temp.next\r\n",
        "\r\n",
        "    if (temp == None):\r\n",
        "            return\r\n",
        "\r\n",
        "    prev.next = temp.next\r\n",
        "\r\n",
        "    temp = None"
      ],
      "execution_count": null,
      "outputs": []
    },
    {
      "cell_type": "code",
      "metadata": {
        "colab": {
          "base_uri": "https://localhost:8080/"
        },
        "id": "auWA49eqNYr3",
        "outputId": "e4982d07-0736-42c4-b885-8ab86e17be38"
      },
      "source": [
        "movie_list = NetflixMovieList()\r\n",
        "movie_list.addMovie('Xyz', '26th June 2009')\r\n",
        "movie_list.addMovie('MR.abc', '15th August 2012')\r\n",
        "movie_list.displayMovies()"
      ],
      "execution_count": null,
      "outputs": [
        {
          "output_type": "stream",
          "text": [
            "MR.abc 15th August 2012 -> Xyz 26th June 2009 -> None\n"
          ],
          "name": "stdout"
        }
      ]
    },
    {
      "cell_type": "code",
      "metadata": {
        "id": "0wtZPaABNkgM"
      },
      "source": [
        "movie_list.deleteMovie()"
      ],
      "execution_count": null,
      "outputs": []
    },
    {
      "cell_type": "code",
      "metadata": {
        "colab": {
          "base_uri": "https://localhost:8080/"
        },
        "id": "k2v6U9LnNtZG",
        "outputId": "7e3a471a-d4df-4363-fe44-6c124cd6e462"
      },
      "source": [
        "movie_list.displayMovies()"
      ],
      "execution_count": null,
      "outputs": [
        {
          "output_type": "stream",
          "text": [
            "MR.abc 15th August 2012 -> None\n"
          ],
          "name": "stdout"
        }
      ]
    }
  ]
}