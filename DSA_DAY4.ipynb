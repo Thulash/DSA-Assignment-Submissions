{
  "nbformat": 4,
  "nbformat_minor": 0,
  "metadata": {
    "colab": {
      "name": "DSA_DAY4.ipynb",
      "provenance": [],
      "authorship_tag": "ABX9TyM5OltfVgE2aBox3OeHSJHn",
      "include_colab_link": true
    },
    "kernelspec": {
      "name": "python3",
      "display_name": "Python 3"
    }
  },
  "cells": [
    {
      "cell_type": "markdown",
      "metadata": {
        "id": "view-in-github",
        "colab_type": "text"
      },
      "source": [
        "<a href=\"https://colab.research.google.com/github/Thulash/DSA-Assignment-Submissions/blob/main/DSA_DAY4.ipynb\" target=\"_parent\"><img src=\"https://colab.research.google.com/assets/colab-badge.svg\" alt=\"Open In Colab\"/></a>"
      ]
    },
    {
      "cell_type": "markdown",
      "metadata": {
        "id": "-lVX2Rj7tEdT"
      },
      "source": [
        "##Question 1\r\n",
        "\r\n",
        "    Implement Linear Search using python."
      ]
    },
    {
      "cell_type": "code",
      "metadata": {
        "colab": {
          "base_uri": "https://localhost:8080/"
        },
        "id": "osUu8LvntBcu",
        "outputId": "a5e0a8a0-232d-47d7-907f-a87746ec3340"
      },
      "source": [
        "def linear(x, n):\r\n",
        "  for i in range(len(x)):\r\n",
        "    if x[i]==n:\r\n",
        "      return i\r\n",
        "  return -1\r\n",
        "\r\n",
        "y = [23, 45, 89, 93, 29, 50, 38]\r\n",
        "m = 29\r\n",
        "\r\n",
        "res = linear(y,m)\r\n",
        "\r\n",
        "if res!= -1:\r\n",
        "  print(m,\"found in\",int(res+1),\"th position\")\r\n",
        "else :\r\n",
        "  print(m, \"not found!\")\r\n",
        " \r\n",
        "\r\n"
      ],
      "execution_count": 5,
      "outputs": [
        {
          "output_type": "stream",
          "text": [
            "29 found in 5 th position\n"
          ],
          "name": "stdout"
        }
      ]
    }
  ]
}