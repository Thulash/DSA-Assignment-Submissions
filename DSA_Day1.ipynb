{
  "nbformat": 4,
  "nbformat_minor": 0,
  "metadata": {
    "colab": {
      "name": "DSA_Day1.ipynb",
      "provenance": [],
      "authorship_tag": "ABX9TyNmXr1Or+Fymmx3bZHhI9eE",
      "include_colab_link": true
    },
    "kernelspec": {
      "name": "python3",
      "display_name": "Python 3"
    }
  },
  "cells": [
    {
      "cell_type": "markdown",
      "metadata": {
        "id": "view-in-github",
        "colab_type": "text"
      },
      "source": [
        "<a href=\"https://colab.research.google.com/github/Thulash/DSA-Assignment-Submissions/blob/main/DSA_Day1.ipynb\" target=\"_parent\"><img src=\"https://colab.research.google.com/assets/colab-badge.svg\" alt=\"Open In Colab\"/></a>"
      ]
    },
    {
      "cell_type": "markdown",
      "metadata": {
        "id": "tH6KmZSlVLjc"
      },
      "source": [
        "#Question 1\r\n",
        "    Write a python program that takes two numbers as the input such as X and Y and print the result of X^Y(X to the power of Y)."
      ]
    },
    {
      "cell_type": "code",
      "metadata": {
        "colab": {
          "base_uri": "https://localhost:8080/"
        },
        "id": "MeCUf2yQVYDi",
        "outputId": "a81dda9e-3f13-4470-d9a9-e2155b63b2a7"
      },
      "source": [
        "X = int(input(\"Enter X value:\"))\r\n",
        "Y = int(input(\"Enter Y value:\"))\r\n",
        "#x to the pow of y \r\n",
        "print(X**Y)"
      ],
      "execution_count": 11,
      "outputs": [
        {
          "output_type": "stream",
          "text": [
            "Enter X value:5 \n",
            "Enter Y value:2\n",
            "25\n"
          ],
          "name": "stdout"
        }
      ]
    },
    {
      "cell_type": "markdown",
      "metadata": {
        "id": "OQ99WF8KWOj3"
      },
      "source": [
        "#Question 2\r\n",
        "    Write a Python program to print the numbers in the list which are divisible by 3.\r\n",
        "    "
      ]
    },
    {
      "cell_type": "code",
      "metadata": {
        "colab": {
          "base_uri": "https://localhost:8080/"
        },
        "id": "rSJOc9rtWLO0",
        "outputId": "c365d0f7-9a25-4498-d76d-ee9f278efc6d"
      },
      "source": [
        "a = [int(i) for i in input('Enter numbers: ').split()]\r\n",
        "print(\"\\nGiven list of number: \",a)\r\n",
        "\r\n",
        "b = list(filter(lambda x: (x % 3 == 0), a))\r\n",
        "print(\"\\nNumbers in the list which are divisible by 3: \",b)"
      ],
      "execution_count": 8,
      "outputs": [
        {
          "output_type": "stream",
          "text": [
            "Enter numbers: 12 5 7 18 6 25 9\n",
            "\n",
            "Given list of number:  [12, 5, 7, 18, 6, 25, 9]\n",
            "\n",
            "Numbers in the list which are divisible by 3:  [12, 18, 6, 9]\n"
          ],
          "name": "stdout"
        }
      ]
    }
  ]
}